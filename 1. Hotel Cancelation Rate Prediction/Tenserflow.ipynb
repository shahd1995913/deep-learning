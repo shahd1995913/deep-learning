{
  "nbformat": 4,
  "nbformat_minor": 0,
  "metadata": {
    "colab": {
      "provenance": [],
      "authorship_tag": "ABX9TyPxSdQXedre424ARQzLk/kZ",
      "include_colab_link": true
    },
    "kernelspec": {
      "name": "python3",
      "display_name": "Python 3"
    },
    "language_info": {
      "name": "python"
    }
  },
  "cells": [
    {
      "cell_type": "markdown",
      "metadata": {
        "id": "view-in-github",
        "colab_type": "text"
      },
      "source": [
        "<a href=\"https://colab.research.google.com/github/shahd1995913/deep-learning/blob/main/Tenserflow.ipynb\" target=\"_parent\"><img src=\"https://colab.research.google.com/assets/colab-badge.svg\" alt=\"Open In Colab\"/></a>"
      ]
    },
    {
      "cell_type": "markdown",
      "source": [
        "## 1. Import the required library"
      ],
      "metadata": {
        "id": "cCa5hKm_yYiG"
      }
    },
    {
      "cell_type": "code",
      "execution_count": 31,
      "metadata": {
        "id": "mqmooW_ixxPD"
      },
      "outputs": [],
      "source": [
        "import numpy as np\n",
        "import pandas as pd\n",
        "import seaborn as sns\n",
        "import matplotlib.pyplot as plt\n",
        "from sklearn.model_selection import train_test_split\n",
        "import tensorflow as tf\n",
        "from tensorflow.keras import layers"
      ]
    },
    {
      "cell_type": "markdown",
      "source": [
        "## 2. Read the data"
      ],
      "metadata": {
        "id": "8kYL1sqqylKU"
      }
    },
    {
      "cell_type": "code",
      "source": [
        "train = pd.read_csv('/content/train.csv')"
      ],
      "metadata": {
        "id": "XPlVzxVNyXRz"
      },
      "execution_count": 75,
      "outputs": []
    },
    {
      "cell_type": "markdown",
      "source": [
        "## 3. Explore the data"
      ],
      "metadata": {
        "id": "Uet6nuHxyorV"
      }
    },
    {
      "cell_type": "code",
      "source": [
        "train.info()"
      ],
      "metadata": {
        "colab": {
          "base_uri": "https://localhost:8080/"
        },
        "id": "oi0WURxEyyC4",
        "outputId": "f6f4da85-c675-476f-a1fa-902922bf0a39"
      },
      "execution_count": 5,
      "outputs": [
        {
          "output_type": "stream",
          "name": "stdout",
          "text": [
            "<class 'pandas.core.frame.DataFrame'>\n",
            "RangeIndex: 100000 entries, 0 to 99999\n",
            "Data columns (total 27 columns):\n",
            " #   Column                          Non-Null Count   Dtype  \n",
            "---  ------                          --------------   -----  \n",
            " 0   Unnamed: 0                      100000 non-null  int64  \n",
            " 1   hotel                           100000 non-null  object \n",
            " 2   is_canceled                     100000 non-null  int64  \n",
            " 3   lead_time                       100000 non-null  int64  \n",
            " 4   arrival_date_year               100000 non-null  int64  \n",
            " 5   arrival_date_month              100000 non-null  object \n",
            " 6   arrival_date_week_number        100000 non-null  int64  \n",
            " 7   arrival_date_day_of_month       100000 non-null  int64  \n",
            " 8   adults                          100000 non-null  int64  \n",
            " 9   children                        99998 non-null   float64\n",
            " 10  babies                          100000 non-null  int64  \n",
            " 11  meal                            100000 non-null  object \n",
            " 12  country                         99593 non-null   object \n",
            " 13  market_segment                  100000 non-null  object \n",
            " 14  distribution_channel            100000 non-null  object \n",
            " 15  is_repeated_guest               100000 non-null  int64  \n",
            " 16  previous_cancellations          100000 non-null  int64  \n",
            " 17  previous_bookings_not_canceled  100000 non-null  int64  \n",
            " 18  reserved_room_type              100000 non-null  object \n",
            " 19  assigned_room_type              100000 non-null  object \n",
            " 20  booking_changes                 100000 non-null  int64  \n",
            " 21  deposit_type                    100000 non-null  object \n",
            " 22  agent                           86343 non-null   float64\n",
            " 23  days_in_waiting_list            100000 non-null  int64  \n",
            " 24  customer_type                   100000 non-null  object \n",
            " 25  required_car_parking_spaces     100000 non-null  int64  \n",
            " 26  total_of_special_requests       100000 non-null  int64  \n",
            "dtypes: float64(2), int64(15), object(10)\n",
            "memory usage: 20.6+ MB\n"
          ]
        }
      ]
    },
    {
      "cell_type": "markdown",
      "source": [
        "**Checking null  values**"
      ],
      "metadata": {
        "id": "cI7sbpkqzPBL"
      }
    },
    {
      "cell_type": "code",
      "source": [
        "train.isnull().sum()"
      ],
      "metadata": {
        "colab": {
          "base_uri": "https://localhost:8080/"
        },
        "id": "ef3HM-aDy62U",
        "outputId": "8284f732-ec11-4527-ec63-ce8f6abe4bde"
      },
      "execution_count": 13,
      "outputs": [
        {
          "output_type": "execute_result",
          "data": {
            "text/plain": [
              "Unnamed: 0                            0\n",
              "hotel                                 0\n",
              "is_canceled                           0\n",
              "lead_time                             0\n",
              "arrival_date_year                     0\n",
              "arrival_date_month                    0\n",
              "arrival_date_week_number              0\n",
              "arrival_date_day_of_month             0\n",
              "adults                                0\n",
              "children                              0\n",
              "babies                                0\n",
              "meal                                  0\n",
              "country                               0\n",
              "market_segment                        0\n",
              "distribution_channel                  0\n",
              "is_repeated_guest                     0\n",
              "previous_cancellations                0\n",
              "previous_bookings_not_canceled        0\n",
              "reserved_room_type                    0\n",
              "assigned_room_type                    0\n",
              "booking_changes                       0\n",
              "deposit_type                          0\n",
              "agent                             13657\n",
              "days_in_waiting_list                  0\n",
              "customer_type                         0\n",
              "required_car_parking_spaces           0\n",
              "total_of_special_requests             0\n",
              "dtype: int64"
            ]
          },
          "metadata": {},
          "execution_count": 13
        }
      ]
    },
    {
      "cell_type": "markdown",
      "source": [
        "\n",
        "**Handling null values By 🔃 :Fill NaN Values with Mode**\n"
      ],
      "metadata": {
        "id": "7ilgCRnmzHs5"
      }
    },
    {
      "cell_type": "code",
      "source": [
        "train['children'] = train['children'].fillna(train['children'].mode()[0])\n",
        "train['country'] = train['country'].fillna(train['country'].mode()[0])"
      ],
      "metadata": {
        "id": "KUAwlih1zC8K"
      },
      "execution_count": 76,
      "outputs": []
    },
    {
      "cell_type": "markdown",
      "source": [
        "**❌ Drop this col due the very large the null values  13657**"
      ],
      "metadata": {
        "id": "MMj5FELJ0bXu"
      }
    },
    {
      "cell_type": "code",
      "source": [
        "train.drop(['agent'],axis=1,inplace=True)"
      ],
      "metadata": {
        "id": "ZcZODBwczC-i"
      },
      "execution_count": 77,
      "outputs": []
    },
    {
      "cell_type": "markdown",
      "source": [
        "**Plot the target class is_canceled**"
      ],
      "metadata": {
        "id": "X2vDiveP0-ZX"
      }
    },
    {
      "cell_type": "code",
      "source": [
        "plt.title(\"Booking Canceled\", fontdict = {'fontsize': 20})\n",
        "ax = sns.countplot(x = \"is_canceled\", data=train)"
      ],
      "metadata": {
        "colab": {
          "base_uri": "https://localhost:8080/",
          "height": 301
        },
        "id": "qFmDYNtszDCB",
        "outputId": "4c84f1f0-778f-41ab-eb28-1f0f17d33cfe"
      },
      "execution_count": 16,
      "outputs": [
        {
          "output_type": "display_data",
          "data": {
            "text/plain": [
              "<Figure size 432x288 with 1 Axes>"
            ],
            "image/png": "[encoded data removed]"
          },
          "metadata": {
            "needs_background": "light"
          }
        }
      ]
    },
    {
      "cell_type": "markdown",
      "source": [
        "**Check the most  market_segment**"
      ],
      "metadata": {
        "id": "7A2Rk9Pe1YHF"
      }
    },
    {
      "cell_type": "code",
      "source": [
        "plt.figure(figsize = (10,7))\n",
        "plt.title(\"Check the most  market_segment\", fontdict = {'fontsize':20})\n",
        "ax = sns.countplot(x = \"market_segment\", data = train)\n"
      ],
      "metadata": {
        "colab": {
          "base_uri": "https://localhost:8080/",
          "height": 464
        },
        "id": "w30nhsUZ1Nii",
        "outputId": "2857f851-a559-4325-e2b9-59bb3079b456"
      },
      "execution_count": 18,
      "outputs": [
        {
          "output_type": "display_data",
          "data": {
            "text/plain": [
              "<Figure size 720x504 with 1 Axes>"
            ],
            "image/png": "[encoded data removed]"
          },
          "metadata": {
            "needs_background": "light"
          }
        }
      ]
    },
    {
      "cell_type": "markdown",
      "source": [
        "**Check the relation between the market_segment and the target class**"
      ],
      "metadata": {
        "id": "4i-O8GwT1mfl"
      }
    },
    {
      "cell_type": "code",
      "source": [
        "plt.figure(figsize = (10,7))\n",
        "sns.set(style = \"darkgrid\")\n",
        "plt.title(\"Booking Cancellation by Segments\", fontdict = {'fontsize':20})\n",
        "ax = sns.countplot(x = \"market_segment\", hue = 'is_canceled', data = train)"
      ],
      "metadata": {
        "colab": {
          "base_uri": "https://localhost:8080/",
          "height": 469
        },
        "id": "3_UYYmf01hYV",
        "outputId": "2bde1f13-05f2-4e3a-a1d6-2e81d6cf2c63"
      },
      "execution_count": 19,
      "outputs": [
        {
          "output_type": "display_data",
          "data": {
            "text/plain": [
              "<Figure size 720x504 with 1 Axes>"
            ],
            "image/png": "[encoded data removed]"
          },
          "metadata": {
            "needs_background": "light"
          }
        }
      ]
    },
    {
      "cell_type": "code",
      "source": [
        "# Arrival Date Year vs. Lead Time By Booking Cancellation Status\n",
        "sns.set(style = \"darkgrid\")\n",
        "plt.title(\"Arrival Date Year vs Lead Time By Booking Cancellation Status\", fontdict = {'fontsize': 20})\n",
        "ax = sns.barplot(x = \"arrival_date_year\", y = \"lead_time\" ,hue = 'is_canceled', data = train)"
      ],
      "metadata": {
        "colab": {
          "base_uri": "https://localhost:8080/",
          "height": 306
        },
        "id": "veg35xDh16kM",
        "outputId": "9cbbc278-a3f3-46c8-e7a7-67da165319d2"
      },
      "execution_count": 20,
      "outputs": [
        {
          "output_type": "display_data",
          "data": {
            "text/plain": [
              "<Figure size 432x288 with 1 Axes>"
            ],
            "image/png": "[encoded data removed]"
          },
          "metadata": {}
        }
      ]
    },
    {
      "cell_type": "code",
      "source": [
        "#Some subplot of remaining attributes:\n",
        "plt.figure(figsize=(16,12))\n",
        "sns.set(palette = \"tab10\")\n",
        "plt.subplot(221)\n",
        "sns.countplot(train['meal'], hue=train['is_canceled'])\n",
        "plt.xlabel('Meal Type')\n",
        "plt.subplot(222)\n",
        "sns.countplot(train['customer_type'], hue=train['is_canceled'])\n",
        "plt.xlabel('customer_type Type')\n",
        "plt.subplot(223)\n",
        "sns.countplot(train['reserved_room_type'], hue=train['is_canceled'])\n",
        "plt.xlabel('Reserved Room Type')\n",
        "plt.show()"
      ],
      "metadata": {
        "colab": {
          "base_uri": "https://localhost:8080/",
          "height": 844
        },
        "id": "lv385wNh1-A4",
        "outputId": "a42a8548-043c-4e27-b04f-1d0da016b4f6"
      },
      "execution_count": 21,
      "outputs": [
        {
          "output_type": "stream",
          "name": "stderr",
          "text": [
            "/usr/local/lib/python3.7/dist-packages/seaborn/_decorators.py:43: FutureWarning: Pass the following variable as a keyword arg: x. From version 0.12, the only valid positional argument will be `data`, and passing other arguments without an explicit keyword will result in an error or misinterpretation.\n",
            "  FutureWarning\n",
            "/usr/local/lib/python3.7/dist-packages/seaborn/_decorators.py:43: FutureWarning: Pass the following variable as a keyword arg: x. From version 0.12, the only valid positional argument will be `data`, and passing other arguments without an explicit keyword will result in an error or misinterpretation.\n",
            "  FutureWarning\n",
            "/usr/local/lib/python3.7/dist-packages/seaborn/_decorators.py:43: FutureWarning: Pass the following variable as a keyword arg: x. From version 0.12, the only valid positional argument will be `data`, and passing other arguments without an explicit keyword will result in an error or misinterpretation.\n",
            "  FutureWarning\n"
          ]
        },
        {
          "output_type": "display_data",
          "data": {
            "text/plain": [
              "<Figure size 1152x864 with 3 Axes>"
            ],
            "image/png": "[encoded data removed]"
          },
          "metadata": {}
        }
      ]
    },
    {
      "cell_type": "markdown",
      "source": [
        "# 4. Prepare data for part modeling"
      ],
      "metadata": {
        "id": "59UA-p9_2eao"
      }
    },
    {
      "cell_type": "markdown",
      "source": [
        "## 4.1 data conversion from categorical to numerical data"
      ],
      "metadata": {
        "id": "2UBn6n0a2x3e"
      }
    },
    {
      "cell_type": "code",
      "source": [
        "train['arrival_date_month'] = pd.factorize(train['arrival_date_month'])[0]\n",
        "train['hotel'] = pd.factorize(train['hotel'])[0]\n",
        "train['arrival_date_year'] = pd.factorize(train['arrival_date_year'])[0]\n",
        "train['customer_type'] = pd.factorize(train['customer_type'])[0]\n",
        "train['deposit_type'] = pd.factorize(train['deposit_type'])[0]\n",
        "train['assigned_room_type'] = pd.factorize(train['assigned_room_type'])[0]\n",
        "train['reserved_room_type'] = pd.factorize(train['reserved_room_type'])[0]\n",
        "train['country'] = pd.factorize(train['country'])[0]\n",
        "train['meal'] = pd.factorize(train['meal'])[0]\n",
        "train['market_segment'] = pd.factorize(train['market_segment'])[0]\n",
        "train['distribution_channel'] = pd.factorize(train['distribution_channel'])[0]"
      ],
      "metadata": {
        "id": "t8-M03ca2C_G"
      },
      "execution_count": 78,
      "outputs": []
    },
    {
      "cell_type": "markdown",
      "source": [
        "## 4.2 Check the correlation between the data and target class "
      ],
      "metadata": {
        "id": "mpKWITnD2_iY"
      }
    },
    {
      "cell_type": "code",
      "source": [
        "correlation = train.corr()['is_canceled'].abs().sort_values(ascending = False)\n",
        "correlation"
      ],
      "metadata": {
        "colab": {
          "base_uri": "https://localhost:8080/"
        },
        "id": "CyXBWpku2SMo",
        "outputId": "a73d791a-4a3a-49d9-bbcb-55cd7c2ecbe8"
      },
      "execution_count": 79,
      "outputs": [
        {
          "output_type": "execute_result",
          "data": {
            "text/plain": [
              "is_canceled                       1.000000\n",
              "deposit_type                      0.467293\n",
              "lead_time                         0.291981\n",
              "market_segment                    0.235521\n",
              "total_of_special_requests         0.234051\n",
              "required_car_parking_spaces       0.195243\n",
              "distribution_channel              0.172999\n",
              "booking_changes                   0.146003\n",
              "hotel                             0.136746\n",
              "assigned_room_type                0.133507\n",
              "country                           0.123971\n",
              "previous_cancellations            0.110477\n",
              "customer_type                     0.085362\n",
              "is_repeated_guest                 0.084627\n",
              "adults                            0.061290\n",
              "previous_bookings_not_canceled    0.057962\n",
              "days_in_waiting_list              0.054150\n",
              "reserved_room_type                0.049183\n",
              "babies                            0.030791\n",
              "arrival_date_year                 0.016712\n",
              "arrival_date_month                0.010417\n",
              "arrival_date_week_number          0.008985\n",
              "arrival_date_day_of_month         0.005589\n",
              "children                          0.005455\n",
              "Unnamed: 0                        0.000351\n",
              "meal                              0.000283\n",
              "Name: is_canceled, dtype: float64"
            ]
          },
          "metadata": {},
          "execution_count": 79
        }
      ]
    },
    {
      "cell_type": "markdown",
      "source": [
        "## 4.3 Drop the data that have weak relationship with target class"
      ],
      "metadata": {
        "id": "QYWmV0vf3bBu"
      }
    },
    {
      "cell_type": "code",
      "source": [
        "# train= train.drop(columns = 'Unnamed: 0', axis = 1)\n",
        "# train = train.drop(columns = 'children', axis = 1)\n",
        "# train = train.drop(columns = 'meal', axis = 1)\n",
        "# train= train.drop(columns = 'arrival_date_day_of_month', axis = 1)\n",
        "# train= train.drop(columns = 'arrival_date_week_number', axis = 1)\n",
        "# train= train.drop(columns = 'arrival_date_month', axis = 1)\n",
        "\n",
        "\n",
        "\n",
        "# Drop the columns with weak relationship with the label class\n",
        "train= train.drop(columns = 'Unnamed: 0', axis = 1)\n",
        "train = train.drop(columns = 'children', axis = 1)\n",
        "train = train.drop(columns = 'arrival_date_day_of_month', axis = 1)\n",
        "train= train.drop(columns = 'arrival_date_week_number', axis = 1)\n",
        "train = train.drop(columns = 'arrival_date_year', axis = 1)\n",
        "train= train.drop(columns = 'days_in_waiting_list', axis = 1)\n",
        "train = train.drop(columns = 'previous_bookings_not_canceled', axis = 1)\n",
        "train = train.drop(columns = 'reserved_room_type', axis = 1)\n",
        "train= train.drop(columns = 'arrival_date_month', axis = 1)\n",
        "train = train.drop(columns = 'meal', axis = 1)\n",
        "train = train.drop(columns = 'babies', axis = 1)\n"
      ],
      "metadata": {
        "id": "elYEbgb23jrL"
      },
      "execution_count": 80,
      "outputs": []
    },
    {
      "cell_type": "code",
      "source": [
        "train"
      ],
      "metadata": {
        "colab": {
          "base_uri": "https://localhost:8080/",
          "height": 488
        },
        "id": "UjpG9VsY343E",
        "outputId": "083f7442-5f35-443c-9d19-41ea1bb5e9f1"
      },
      "execution_count": 26,
      "outputs": [
        {
          "output_type": "execute_result",
          "data": {
            "text/plain": [
              "       hotel  is_canceled  lead_time  arrival_date_year  adults  babies  \\\n",
              "0          0            1         20                  0       2       0   \n",
              "1          0            0          1                  1       1       0   \n",
              "2          0            0        164                  2       1       0   \n",
              "3          0            0         79                  1       3       0   \n",
              "4          1            0         16                  0       2       0   \n",
              "...      ...          ...        ...                ...     ...     ...   \n",
              "99995      0            0        343                  0       2       0   \n",
              "99996      1            1         14                  1       1       0   \n",
              "99997      1            0        244                  2       2       0   \n",
              "99998      0            0        158                  0       2       0   \n",
              "99999      1            1         48                  1       2       0   \n",
              "\n",
              "       country  market_segment  distribution_channel  is_repeated_guest  \\\n",
              "0            0               0                     0                  0   \n",
              "1            1               1                     0                  0   \n",
              "2            0               1                     0                  0   \n",
              "3            0               2                     0                  0   \n",
              "4            2               2                     0                  0   \n",
              "...        ...             ...                   ...                ...   \n",
              "99995        5               2                     0                  0   \n",
              "99996       21               2                     0                  0   \n",
              "99997        2               0                     0                  0   \n",
              "99998       10               4                     2                  0   \n",
              "99999       17               2                     0                  0   \n",
              "\n",
              "       previous_cancellations  previous_bookings_not_canceled  \\\n",
              "0                           0                               0   \n",
              "1                           0                               0   \n",
              "2                           0                               0   \n",
              "3                           0                               0   \n",
              "4                           0                               0   \n",
              "...                       ...                             ...   \n",
              "99995                       0                               0   \n",
              "99996                       0                               0   \n",
              "99997                       0                               0   \n",
              "99998                       0                               0   \n",
              "99999                       0                               0   \n",
              "\n",
              "       reserved_room_type  assigned_room_type  booking_changes  deposit_type  \\\n",
              "0                       0                   0                0             0   \n",
              "1                       0                   0                0             0   \n",
              "2                       0                   1                0             0   \n",
              "3                       1                   1                1             0   \n",
              "4                       2                   2                1             0   \n",
              "...                   ...                 ...              ...           ...   \n",
              "99995                   0                   0                0             0   \n",
              "99996                   2                   2                0             0   \n",
              "99997                   0                   0                0             0   \n",
              "99998                   3                   3                0             0   \n",
              "99999                   2                   2                0             0   \n",
              "\n",
              "       days_in_waiting_list  customer_type  required_car_parking_spaces  \\\n",
              "0                         0              0                            0   \n",
              "1                         0              0                            0   \n",
              "2                         0              0                            0   \n",
              "3                         0              1                            0   \n",
              "4                         0              1                            0   \n",
              "...                     ...            ...                          ...   \n",
              "99995                     0              1                            0   \n",
              "99996                     0              1                            0   \n",
              "99997                     0              0                            0   \n",
              "99998                     0              1                            0   \n",
              "99999                     0              1                            0   \n",
              "\n",
              "       total_of_special_requests  \n",
              "0                              0  \n",
              "1                              0  \n",
              "2                              0  \n",
              "3                              2  \n",
              "4                              1  \n",
              "...                          ...  \n",
              "99995                          3  \n",
              "99996                          0  \n",
              "99997                          0  \n",
              "99998                          0  \n",
              "99999                          0  \n",
              "\n",
              "[100000 rows x 20 columns]"
            ],
            "text/html": [
              "\n",
              "  <div id=\"df-1b3f6457-8107-43ef-a928-b7525b5d8349\">\n",
              "    <div class=\"colab-df-container\">\n",
              "      <div>\n",
              "<style scoped>\n",
              "    .dataframe tbody tr th:only-of-type {\n",
              "        vertical-align: middle;\n",
              "    }\n",
              "\n",
              "    .dataframe tbody tr th {\n",
              "        vertical-align: top;\n",
              "    }\n",
              "\n",
              "    .dataframe thead th {\n",
              "        text-align: right;\n",
              "    }\n",
              "</style>\n",
              "<table border=\"1\" class=\"dataframe\">\n",
              "  <thead>\n",
              "    <tr style=\"text-align: right;\">\n",
              "      <th></th>\n",
              "      <th>hotel</th>\n",
              "      <th>is_canceled</th>\n",
              "      <th>lead_time</th>\n",
              "      <th>arrival_date_year</th>\n",
              "      <th>adults</th>\n",
              "      <th>babies</th>\n",
              "      <th>country</th>\n",
              "      <th>market_segment</th>\n",
              "      <th>distribution_channel</th>\n",
              "      <th>is_repeated_guest</th>\n",
              "      <th>previous_cancellations</th>\n",
              "      <th>previous_bookings_not_canceled</th>\n",
              "      <th>reserved_room_type</th>\n",
              "      <th>assigned_room_type</th>\n",
              "      <th>booking_changes</th>\n",
              "      <th>deposit_type</th>\n",
              "      <th>days_in_waiting_list</th>\n",
              "      <th>customer_type</th>\n",
              "      <th>required_car_parking_spaces</th>\n",
              "      <th>total_of_special_requests</th>\n",
              "    </tr>\n",
              "  </thead>\n",
              "  <tbody>\n",
              "    <tr>\n",
              "      <th>0</th>\n",
              "      <td>0</td>\n",
              "      <td>1</td>\n",
              "      <td>20</td>\n",
              "      <td>0</td>\n",
              "      <td>2</td>\n",
              "      <td>0</td>\n",
              "      <td>0</td>\n",
              "      <td>0</td>\n",
              "      <td>0</td>\n",
              "      <td>0</td>\n",
              "      <td>0</td>\n",
              "      <td>0</td>\n",
              "      <td>0</td>\n",
              "      <td>0</td>\n",
              "      <td>0</td>\n",
              "      <td>0</td>\n",
              "      <td>0</td>\n",
              "      <td>0</td>\n",
              "      <td>0</td>\n",
              "      <td>0</td>\n",
              "    </tr>\n",
              "    <tr>\n",
              "      <th>1</th>\n",
              "      <td>0</td>\n",
              "      <td>0</td>\n",
              "      <td>1</td>\n",
              "      <td>1</td>\n",
              "      <td>1</td>\n",
              "      <td>0</td>\n",
              "      <td>1</td>\n",
              "      <td>1</td>\n",
              "      <td>0</td>\n",
              "      <td>0</td>\n",
              "      <td>0</td>\n",
              "      <td>0</td>\n",
              "      <td>0</td>\n",
              "      <td>0</td>\n",
              "      <td>0</td>\n",
              "      <td>0</td>\n",
              "      <td>0</td>\n",
              "      <td>0</td>\n",
              "      <td>0</td>\n",
              "      <td>0</td>\n",
              "    </tr>\n",
              "    <tr>\n",
              "      <th>2</th>\n",
              "      <td>0</td>\n",
              "      <td>0</td>\n",
              "      <td>164</td>\n",
              "      <td>2</td>\n",
              "      <td>1</td>\n",
              "      <td>0</td>\n",
              "      <td>0</td>\n",
              "      <td>1</td>\n",
              "      <td>0</td>\n",
              "      <td>0</td>\n",
              "      <td>0</td>\n",
              "      <td>0</td>\n",
              "      <td>0</td>\n",
              "      <td>1</td>\n",
              "      <td>0</td>\n",
              "      <td>0</td>\n",
              "      <td>0</td>\n",
              "      <td>0</td>\n",
              "      <td>0</td>\n",
              "      <td>0</td>\n",
              "    </tr>\n",
              "    <tr>\n",
              "      <th>3</th>\n",
              "      <td>0</td>\n",
              "      <td>0</td>\n",
              "      <td>79</td>\n",
              "      <td>1</td>\n",
              "      <td>3</td>\n",
              "      <td>0</td>\n",
              "      <td>0</td>\n",
              "      <td>2</td>\n",
              "      <td>0</td>\n",
              "      <td>0</td>\n",
              "      <td>0</td>\n",
              "      <td>0</td>\n",
              "      <td>1</td>\n",
              "      <td>1</td>\n",
              "      <td>1</td>\n",
              "      <td>0</td>\n",
              "      <td>0</td>\n",
              "      <td>1</td>\n",
              "      <td>0</td>\n",
              "      <td>2</td>\n",
              "    </tr>\n",
              "    <tr>\n",
              "      <th>4</th>\n",
              "      <td>1</td>\n",
              "      <td>0</td>\n",
              "      <td>16</td>\n",
              "      <td>0</td>\n",
              "      <td>2</td>\n",
              "      <td>0</td>\n",
              "      <td>2</td>\n",
              "      <td>2</td>\n",
              "      <td>0</td>\n",
              "      <td>0</td>\n",
              "      <td>0</td>\n",
              "      <td>0</td>\n",
              "      <td>2</td>\n",
              "      <td>2</td>\n",
              "      <td>1</td>\n",
              "      <td>0</td>\n",
              "      <td>0</td>\n",
              "      <td>1</td>\n",
              "      <td>0</td>\n",
              "      <td>1</td>\n",
              "    </tr>\n",
              "    <tr>\n",
              "      <th>...</th>\n",
              "      <td>...</td>\n",
              "      <td>...</td>\n",
              "      <td>...</td>\n",
              "      <td>...</td>\n",
              "      <td>...</td>\n",
              "      <td>...</td>\n",
              "      <td>...</td>\n",
              "      <td>...</td>\n",
              "      <td>...</td>\n",
              "      <td>...</td>\n",
              "      <td>...</td>\n",
              "      <td>...</td>\n",
              "      <td>...</td>\n",
              "      <td>...</td>\n",
              "      <td>...</td>\n",
              "      <td>...</td>\n",
              "      <td>...</td>\n",
              "      <td>...</td>\n",
              "      <td>...</td>\n",
              "      <td>...</td>\n",
              "    </tr>\n",
              "    <tr>\n",
              "      <th>99995</th>\n",
              "      <td>0</td>\n",
              "      <td>0</td>\n",
              "      <td>343</td>\n",
              "      <td>0</td>\n",
              "      <td>2</td>\n",
              "      <td>0</td>\n",
              "      <td>5</td>\n",
              "      <td>2</td>\n",
              "      <td>0</td>\n",
              "      <td>0</td>\n",
              "      <td>0</td>\n",
              "      <td>0</td>\n",
              "      <td>0</td>\n",
              "      <td>0</td>\n",
              "      <td>0</td>\n",
              "      <td>0</td>\n",
              "      <td>0</td>\n",
              "      <td>1</td>\n",
              "      <td>0</td>\n",
              "      <td>3</td>\n",
              "    </tr>\n",
              "    <tr>\n",
              "      <th>99996</th>\n",
              "      <td>1</td>\n",
              "      <td>1</td>\n",
              "      <td>14</td>\n",
              "      <td>1</td>\n",
              "      <td>1</td>\n",
              "      <td>0</td>\n",
              "      <td>21</td>\n",
              "      <td>2</td>\n",
              "      <td>0</td>\n",
              "      <td>0</td>\n",
              "      <td>0</td>\n",
              "      <td>0</td>\n",
              "      <td>2</td>\n",
              "      <td>2</td>\n",
              "      <td>0</td>\n",
              "      <td>0</td>\n",
              "      <td>0</td>\n",
              "      <td>1</td>\n",
              "      <td>0</td>\n",
              "      <td>0</td>\n",
              "    </tr>\n",
              "    <tr>\n",
              "      <th>99997</th>\n",
              "      <td>1</td>\n",
              "      <td>0</td>\n",
              "      <td>244</td>\n",
              "      <td>2</td>\n",
              "      <td>2</td>\n",
              "      <td>0</td>\n",
              "      <td>2</td>\n",
              "      <td>0</td>\n",
              "      <td>0</td>\n",
              "      <td>0</td>\n",
              "      <td>0</td>\n",
              "      <td>0</td>\n",
              "      <td>0</td>\n",
              "      <td>0</td>\n",
              "      <td>0</td>\n",
              "      <td>0</td>\n",
              "      <td>0</td>\n",
              "      <td>0</td>\n",
              "      <td>0</td>\n",
              "      <td>0</td>\n",
              "    </tr>\n",
              "    <tr>\n",
              "      <th>99998</th>\n",
              "      <td>0</td>\n",
              "      <td>0</td>\n",
              "      <td>158</td>\n",
              "      <td>0</td>\n",
              "      <td>2</td>\n",
              "      <td>0</td>\n",
              "      <td>10</td>\n",
              "      <td>4</td>\n",
              "      <td>2</td>\n",
              "      <td>0</td>\n",
              "      <td>0</td>\n",
              "      <td>0</td>\n",
              "      <td>3</td>\n",
              "      <td>3</td>\n",
              "      <td>0</td>\n",
              "      <td>0</td>\n",
              "      <td>0</td>\n",
              "      <td>1</td>\n",
              "      <td>0</td>\n",
              "      <td>0</td>\n",
              "    </tr>\n",
              "    <tr>\n",
              "      <th>99999</th>\n",
              "      <td>1</td>\n",
              "      <td>1</td>\n",
              "      <td>48</td>\n",
              "      <td>1</td>\n",
              "      <td>2</td>\n",
              "      <td>0</td>\n",
              "      <td>17</td>\n",
              "      <td>2</td>\n",
              "      <td>0</td>\n",
              "      <td>0</td>\n",
              "      <td>0</td>\n",
              "      <td>0</td>\n",
              "      <td>2</td>\n",
              "      <td>2</td>\n",
              "      <td>0</td>\n",
              "      <td>0</td>\n",
              "      <td>0</td>\n",
              "      <td>1</td>\n",
              "      <td>0</td>\n",
              "      <td>0</td>\n",
              "    </tr>\n",
              "  </tbody>\n",
              "</table>\n",
              "<p>100000 rows × 20 columns</p>\n",
              "</div>\n",
              "      <button class=\"colab-df-convert\" onclick=\"convertToInteractive('df-1b3f6457-8107-43ef-a928-b7525b5d8349')\"\n",
              "              title=\"Convert this dataframe to an interactive table.\"\n",
              "              style=\"display:none;\">\n",
              "        \n",
              "  <svg xmlns=\"http://www.w3.org/2000/svg\" height=\"24px\"viewBox=\"0 0 24 24\"\n",
              "       width=\"24px\">\n",
              "    <path d=\"M0 0h24v24H0V0z\" fill=\"none\"/>\n",
              "    <path d=\"M18.56 5.44l.94 2.06.94-2.06 2.06-.94-2.06-.94-.94-2.06-.94 2.06-2.06.94zm-11 1L8.5 8.5l.94-2.06 2.06-.94-2.06-.94L8.5 2.5l-.94 2.06-2.06.94zm10 10l.94 2.06.94-2.06 2.06-.94-2.06-.94-.94-2.06-.94 2.06-2.06.94z\"/><path d=\"M17.41 7.96l-1.37-1.37c-.4-.4-.92-.59-1.43-.59-.52 0-1.04.2-1.43.59L10.3 9.45l-7.72 7.72c-.78.78-.78 2.05 0 2.83L4 21.41c.39.39.9.59 1.41.59.51 0 1.02-.2 1.41-.59l7.78-7.78 2.81-2.81c.8-.78.8-2.07 0-2.86zM5.41 20L4 18.59l7.72-7.72 1.47 1.35L5.41 20z\"/>\n",
              "  </svg>\n",
              "      </button>\n",
              "      \n",
              "  <style>\n",
              "    .colab-df-container {\n",
              "      display:flex;\n",
              "      flex-wrap:wrap;\n",
              "      gap: 12px;\n",
              "    }\n",
              "\n",
              "    .colab-df-convert {\n",
              "      background-color: #E8F0FE;\n",
              "      border: none;\n",
              "      border-radius: 50%;\n",
              "      cursor: pointer;\n",
              "      display: none;\n",
              "      fill: #1967D2;\n",
              "      height: 32px;\n",
              "      padding: 0 0 0 0;\n",
              "      width: 32px;\n",
              "    }\n",
              "\n",
              "    .colab-df-convert:hover {\n",
              "      background-color: #E2EBFA;\n",
              "      box-shadow: 0px 1px 2px rgba(60, 64, 67, 0.3), 0px 1px 3px 1px rgba(60, 64, 67, 0.15);\n",
              "      fill: #174EA6;\n",
              "    }\n",
              "\n",
              "    [theme=dark] .colab-df-convert {\n",
              "      background-color: #3B4455;\n",
              "      fill: #D2E3FC;\n",
              "    }\n",
              "\n",
              "    [theme=dark] .colab-df-convert:hover {\n",
              "      background-color: #434B5C;\n",
              "      box-shadow: 0px 1px 3px 1px rgba(0, 0, 0, 0.15);\n",
              "      filter: drop-shadow(0px 1px 2px rgba(0, 0, 0, 0.3));\n",
              "      fill: #FFFFFF;\n",
              "    }\n",
              "  </style>\n",
              "\n",
              "      <script>\n",
              "        const buttonEl =\n",
              "          document.querySelector('#df-1b3f6457-8107-43ef-a928-b7525b5d8349 button.colab-df-convert');\n",
              "        buttonEl.style.display =\n",
              "          google.colab.kernel.accessAllowed ? 'block' : 'none';\n",
              "\n",
              "        async function convertToInteractive(key) {\n",
              "          const element = document.querySelector('#df-1b3f6457-8107-43ef-a928-b7525b5d8349');\n",
              "          const dataTable =\n",
              "            await google.colab.kernel.invokeFunction('convertToInteractive',\n",
              "                                                     [key], {});\n",
              "          if (!dataTable) return;\n",
              "\n",
              "          const docLinkHtml = 'Like what you see? Visit the ' +\n",
              "            '<a target=\"_blank\" href=https://colab.research.google.com/notebooks/data_table.ipynb>data table notebook</a>'\n",
              "            + ' to learn more about interactive tables.';\n",
              "          element.innerHTML = '';\n",
              "          dataTable['output_type'] = 'display_data';\n",
              "          await google.colab.output.renderOutput(dataTable, element);\n",
              "          const docLink = document.createElement('div');\n",
              "          docLink.innerHTML = docLinkHtml;\n",
              "          element.appendChild(docLink);\n",
              "        }\n",
              "      </script>\n",
              "    </div>\n",
              "  </div>\n",
              "  "
            ]
          },
          "metadata": {},
          "execution_count": 26
        }
      ]
    },
    {
      "cell_type": "markdown",
      "source": [
        "# 5. Model part for train and test\n",
        "## 5.1 Separate the features and labels for training:"
      ],
      "metadata": {
        "id": "OnEoFdr04Hvw"
      }
    },
    {
      "cell_type": "code",
      "source": [
        "df_features = train.copy()\n",
        "df_labels = df_features.pop('is_canceled')"
      ],
      "metadata": {
        "id": "78IETdW94Q5k"
      },
      "execution_count": 81,
      "outputs": []
    },
    {
      "cell_type": "markdown",
      "source": [
        "## 5.2 Make the features into a single NumPy array\n",
        "\n"
      ],
      "metadata": {
        "id": "KSP1vM9-4O0v"
      }
    },
    {
      "cell_type": "code",
      "source": [
        "df_features = np.array(df_features)\n",
        "df_features"
      ],
      "metadata": {
        "colab": {
          "base_uri": "https://localhost:8080/"
        },
        "id": "WTdfswSi4r5C",
        "outputId": "868d34ab-f8c8-42ef-f430-54081509f883"
      },
      "execution_count": 86,
      "outputs": [
        {
          "output_type": "execute_result",
          "data": {
            "text/plain": [
              "array([[  0,  20,   2, ...,   0,   0,   0],\n",
              "       [  0,   1,   1, ...,   0,   0,   0],\n",
              "       [  0, 164,   1, ...,   0,   0,   0],\n",
              "       ...,\n",
              "       [  1, 244,   2, ...,   0,   0,   0],\n",
              "       [  0, 158,   2, ...,   1,   0,   0],\n",
              "       [  1,  48,   2, ...,   1,   0,   0]])"
            ]
          },
          "metadata": {},
          "execution_count": 86
        }
      ]
    },
    {
      "cell_type": "code",
      "source": [
        "X_train, X_test, y_train, y_test = train_test_split(df_features, df_labels, test_size=0.2, random_state=32)\n",
        "#Standardization\n",
        "from sklearn.preprocessing import StandardScaler\n",
        "sc=StandardScaler()\n",
        "X_train_std=sc.fit_transform(X_train)\n",
        "X_val_std=sc.transform(X_test)"
      ],
      "metadata": {
        "id": "UrUpzutAKnm4"
      },
      "execution_count": 89,
      "outputs": []
    },
    {
      "cell_type": "markdown",
      "source": [
        "## 5.3 layers.Normalization\n",
        "### layer precomputes the mean and variance of each column, and uses these to normalize the data.\n",
        "\n"
      ],
      "metadata": {
        "id": "GqmfEeoK4_H8"
      }
    },
    {
      "cell_type": "code",
      "source": [
        "normalize = layers.Normalization()\n",
        "normalize.adapt(df_features)"
      ],
      "metadata": {
        "id": "jycE0fd_5EpA"
      },
      "execution_count": 90,
      "outputs": []
    },
    {
      "cell_type": "markdown",
      "source": [
        "## 5.4 Bulid the tf Model"
      ],
      "metadata": {
        "id": "oFWouJiK5cIF"
      }
    },
    {
      "cell_type": "code",
      "source": [
        "model = tf.keras.Sequential([\n",
        "  normalize,\n",
        "  # layers.Dense(64),\n",
        "  # layers.Dense(1)\n",
        "   tf.keras.layers.Dense(128,input_shape=(24,),activation='relu'),\n",
        "    tf.keras.layers.Dense(128,activation='relu'),\n",
        "    tf.keras.layers.Dropout(0.18),\n",
        "    tf.keras.layers.Dense(100,activation='relu'),\n",
        "    tf.keras.layers.Dense(1,activation='sigmoid')\n",
        "])\n",
        "\n",
        "model.compile(loss = tf.keras.losses.MeanSquaredError(),\n",
        "                           optimizer = tf.keras.optimizers.Adam() , metrics=[ 'accuracy' ])\n",
        "\n",
        "\n",
        "model.fit(X_train_std, y_train, epochs=20 , validation_data=(X_val_std,y_test),batch_size=64)"
      ],
      "metadata": {
        "colab": {
          "base_uri": "https://localhost:8080/"
        },
        "id": "9vOPfjEe5h4I",
        "outputId": "3f75e046-ac30-4ad4-aba5-335724234179"
      },
      "execution_count": 93,
      "outputs": [
        {
          "output_type": "stream",
          "name": "stdout",
          "text": [
            "Epoch 1/20\n",
            "1250/1250 [==============================] - 6s 4ms/step - loss: 0.1468 - accuracy: 0.7917 - val_loss: 0.1428 - val_accuracy: 0.7971\n",
            "Epoch 2/20\n",
            "1250/1250 [==============================] - 4s 3ms/step - loss: 0.1397 - accuracy: 0.8020 - val_loss: 0.1397 - val_accuracy: 0.8014\n",
            "Epoch 3/20\n",
            "1250/1250 [==============================] - 4s 3ms/step - loss: 0.1382 - accuracy: 0.8036 - val_loss: 0.1391 - val_accuracy: 0.8019\n",
            "Epoch 4/20\n",
            "1250/1250 [==============================] - 4s 3ms/step - loss: 0.1373 - accuracy: 0.8040 - val_loss: 0.1385 - val_accuracy: 0.8005\n",
            "Epoch 5/20\n",
            "1250/1250 [==============================] - 4s 3ms/step - loss: 0.1366 - accuracy: 0.8044 - val_loss: 0.1380 - val_accuracy: 0.8050\n",
            "Epoch 6/20\n",
            "1250/1250 [==============================] - 4s 3ms/step - loss: 0.1362 - accuracy: 0.8051 - val_loss: 0.1374 - val_accuracy: 0.8033\n",
            "Epoch 7/20\n",
            "1250/1250 [==============================] - 4s 3ms/step - loss: 0.1355 - accuracy: 0.8055 - val_loss: 0.1370 - val_accuracy: 0.8024\n",
            "Epoch 8/20\n",
            "1250/1250 [==============================] - 4s 3ms/step - loss: 0.1352 - accuracy: 0.8055 - val_loss: 0.1385 - val_accuracy: 0.8032\n",
            "Epoch 9/20\n",
            "1250/1250 [==============================] - 4s 3ms/step - loss: 0.1344 - accuracy: 0.8065 - val_loss: 0.1363 - val_accuracy: 0.8019\n",
            "Epoch 10/20\n",
            "1250/1250 [==============================] - 4s 3ms/step - loss: 0.1341 - accuracy: 0.8066 - val_loss: 0.1354 - val_accuracy: 0.8047\n",
            "Epoch 11/20\n",
            "1250/1250 [==============================] - 4s 3ms/step - loss: 0.1339 - accuracy: 0.8070 - val_loss: 0.1361 - val_accuracy: 0.8026\n",
            "Epoch 12/20\n",
            "1250/1250 [==============================] - 4s 3ms/step - loss: 0.1333 - accuracy: 0.8075 - val_loss: 0.1349 - val_accuracy: 0.8072\n",
            "Epoch 13/20\n",
            "1250/1250 [==============================] - 4s 3ms/step - loss: 0.1329 - accuracy: 0.8083 - val_loss: 0.1337 - val_accuracy: 0.8026\n",
            "Epoch 14/20\n",
            "1250/1250 [==============================] - 4s 3ms/step - loss: 0.1324 - accuracy: 0.8077 - val_loss: 0.1342 - val_accuracy: 0.8044\n",
            "Epoch 15/20\n",
            "1250/1250 [==============================] - 4s 3ms/step - loss: 0.1319 - accuracy: 0.8091 - val_loss: 0.1323 - val_accuracy: 0.8055\n",
            "Epoch 16/20\n",
            "1250/1250 [==============================] - 4s 3ms/step - loss: 0.1314 - accuracy: 0.8101 - val_loss: 0.1317 - val_accuracy: 0.8087\n",
            "Epoch 17/20\n",
            "1250/1250 [==============================] - 4s 3ms/step - loss: 0.1308 - accuracy: 0.8095 - val_loss: 0.1331 - val_accuracy: 0.8035\n",
            "Epoch 18/20\n",
            "1250/1250 [==============================] - 4s 3ms/step - loss: 0.1307 - accuracy: 0.8092 - val_loss: 0.1325 - val_accuracy: 0.8084\n",
            "Epoch 19/20\n",
            "1250/1250 [==============================] - 4s 3ms/step - loss: 0.1302 - accuracy: 0.8107 - val_loss: 0.1340 - val_accuracy: 0.8045\n",
            "Epoch 20/20\n",
            "1250/1250 [==============================] - 4s 3ms/step - loss: 0.1296 - accuracy: 0.8108 - val_loss: 0.1312 - val_accuracy: 0.8089\n"
          ]
        },
        {
          "output_type": "execute_result",
          "data": {
            "text/plain": [
              "<keras.callbacks.History at 0x7f4055388590>"
            ]
          },
          "metadata": {},
          "execution_count": 93
        }
      ]
    },
    {
      "cell_type": "markdown",
      "source": [
        "# 6. Check the acc of model "
      ],
      "metadata": {
        "id": "K-XDaKuq7OdB"
      }
    },
    {
      "cell_type": "code",
      "source": [
        "results = model.evaluate(df_features,df_labels, batch_size=128)"
      ],
      "metadata": {
        "colab": {
          "base_uri": "https://localhost:8080/"
        },
        "id": "eF7ePW5H7OvA",
        "outputId": "02b9d1df-2766-46bc-84f1-5f6173ccd92c"
      },
      "execution_count": 94,
      "outputs": [
        {
          "output_type": "stream",
          "name": "stdout",
          "text": [
            "782/782 [==============================] - 2s 2ms/step - loss: 0.1912 - accuracy: 0.7481\n"
          ]
        }
      ]
    },
    {
      "cell_type": "markdown",
      "source": [
        "# 7. Test the test data"
      ],
      "metadata": {
        "id": "6CyLqGYI7rqB"
      }
    },
    {
      "cell_type": "code",
      "source": [
        "test = pd.read_csv('/content/test.csv')"
      ],
      "metadata": {
        "id": "8fYQEFPN74Cu"
      },
      "execution_count": 95,
      "outputs": []
    },
    {
      "cell_type": "code",
      "source": [
        "test.isnull().sum()"
      ],
      "metadata": {
        "colab": {
          "base_uri": "https://localhost:8080/"
        },
        "id": "GzOsIJve8GNL",
        "outputId": "6ff7a7c5-8076-46c7-99bf-2b4497c64c6d"
      },
      "execution_count": 39,
      "outputs": [
        {
          "output_type": "execute_result",
          "data": {
            "text/plain": [
              "Unnamed: 0                        0\n",
              "hotel                             0\n",
              "lead_time                         0\n",
              "arrival_date_year                 0\n",
              "arrival_date_month                0\n",
              "arrival_date_week_number          0\n",
              "arrival_date_day_of_month         0\n",
              "adults                            0\n",
              "children                          0\n",
              "babies                            0\n",
              "meal                              0\n",
              "country                           0\n",
              "market_segment                    0\n",
              "distribution_channel              0\n",
              "is_repeated_guest                 0\n",
              "previous_cancellations            0\n",
              "previous_bookings_not_canceled    0\n",
              "reserved_room_type                0\n",
              "assigned_room_type                0\n",
              "booking_changes                   0\n",
              "deposit_type                      0\n",
              "agent                             0\n",
              "days_in_waiting_list              0\n",
              "customer_type                     0\n",
              "required_car_parking_spaces       0\n",
              "total_of_special_requests         0\n",
              "dtype: int64"
            ]
          },
          "metadata": {},
          "execution_count": 39
        }
      ]
    },
    {
      "cell_type": "code",
      "source": [
        "test.drop(['agent'],axis=1,inplace=True)"
      ],
      "metadata": {
        "id": "ARedhitn8JNQ"
      },
      "execution_count": 96,
      "outputs": []
    },
    {
      "cell_type": "code",
      "source": [
        "# test['arrival_date_month'] = pd.factorize(test['arrival_date_month'])[0]\n",
        "test['hotel'] = pd.factorize(test['hotel'])[0]\n",
        "# test['arrival_date_year'] = pd.factorize(test['arrival_date_year'])[0]\n",
        "test['customer_type'] = pd.factorize(test['customer_type'])[0]\n",
        "test['deposit_type'] = pd.factorize(test['deposit_type'])[0]\n",
        "test['assigned_room_type'] = pd.factorize(test['assigned_room_type'])[0]\n",
        "# test['reserved_room_type'] = pd.factorize(test['reserved_room_type'])[0]\n",
        "test['country'] = pd.factorize(test['country'])[0]\n",
        "# test['meal'] = pd.factorize(test['meal'])[0]\n",
        "test['market_segment'] = pd.factorize(test['market_segment'])[0]\n",
        "test['distribution_channel'] = pd.factorize(test['distribution_channel'])[0]"
      ],
      "metadata": {
        "id": "7d4_ExSa8TXz"
      },
      "execution_count": 104,
      "outputs": []
    },
    {
      "cell_type": "code",
      "source": [
        "test= test.drop(columns = 'Unnamed: 0', axis = 1)\n",
        "test = test.drop(columns = 'children', axis = 1)\n",
        "test = test.drop(columns = 'arrival_date_day_of_month', axis = 1)\n",
        "test= test.drop(columns = 'arrival_date_week_number', axis = 1)\n",
        "test = test.drop(columns = 'arrival_date_year', axis = 1)\n",
        "test= test.drop(columns = 'days_in_waiting_list', axis = 1)\n",
        "test = test.drop(columns = 'previous_bookings_not_canceled', axis = 1)\n",
        "test = test.drop(columns = 'reserved_room_type', axis = 1)\n",
        "test= test.drop(columns = 'arrival_date_month', axis = 1)\n",
        "test = test.drop(columns = 'meal', axis = 1)\n",
        "test = test.drop(columns = 'babies', axis = 1)"
      ],
      "metadata": {
        "id": "Dt7dSYNY8ath"
      },
      "execution_count": 97,
      "outputs": []
    },
    {
      "cell_type": "code",
      "source": [
        "df_test = np.array(test)\n",
        "df_test"
      ],
      "metadata": {
        "colab": {
          "base_uri": "https://localhost:8080/"
        },
        "id": "TeekEBBT8nZA",
        "outputId": "5230368a-6db4-492f-cb96-5795837603f5"
      },
      "execution_count": 105,
      "outputs": [
        {
          "output_type": "execute_result",
          "data": {
            "text/plain": [
              "array([[  0, 433,   2, ...,   0,   0,   0],\n",
              "       [  0,  18,   2, ...,   1,   0,   1],\n",
              "       [  0,  63,   2, ...,   0,   0,   0],\n",
              "       ...,\n",
              "       [  0,   3,   2, ...,   0,   0,   2],\n",
              "       [  1,  74,   2, ...,   0,   0,   0],\n",
              "       [  0,  15,   2, ...,   0,   0,   0]])"
            ]
          },
          "metadata": {},
          "execution_count": 105
        }
      ]
    },
    {
      "cell_type": "code",
      "source": [
        "X_test_std=sc.fit_transform(df_test)"
      ],
      "metadata": {
        "id": "LmSr8RJtMYwG"
      },
      "execution_count": 106,
      "outputs": []
    },
    {
      "cell_type": "code",
      "source": [
        "predictions = model.predict(X_test_std)"
      ],
      "metadata": {
        "colab": {
          "base_uri": "https://localhost:8080/"
        },
        "id": "qOmPCnWf8t7D",
        "outputId": "26592ce0-8451-46a6-feb4-5a34a1dff0be"
      },
      "execution_count": 107,
      "outputs": [
        {
          "output_type": "stream",
          "name": "stdout",
          "text": [
            "522/522 [==============================] - 1s 1ms/step\n"
          ]
        }
      ]
    },
    {
      "cell_type": "code",
      "source": [
        "predictions"
      ],
      "metadata": {
        "colab": {
          "base_uri": "https://localhost:8080/"
        },
        "id": "NQGOunG4MjZ-",
        "outputId": "49fd7ded-084e-4842-d613-0e9642de6c16"
      },
      "execution_count": 113,
      "outputs": [
        {
          "output_type": "execute_result",
          "data": {
            "text/plain": [
              "array([[0.05038941],\n",
              "       [0.6653491 ],\n",
              "       [0.92065334],\n",
              "       ...,\n",
              "       [0.13123974],\n",
              "       [0.9673516 ],\n",
              "       [0.8529348 ]], dtype=float32)"
            ]
          },
          "metadata": {},
          "execution_count": 113
        }
      ]
    },
    {
      "cell_type": "code",
      "source": [
        "predictionsupdate = np.where(predictions>.5 ,1,0)"
      ],
      "metadata": {
        "id": "dQClz5uXGCxr"
      },
      "execution_count": 120,
      "outputs": []
    },
    {
      "cell_type": "code",
      "source": [
        "# classes = np.argmax(predictions, axis = 1)\n",
        "# print(classes)"
      ],
      "metadata": {
        "colab": {
          "base_uri": "https://localhost:8080/",
          "height": 200
        },
        "id": "ifC_sw0w80L6",
        "outputId": "944a9d82-465f-4a25-aa97-22394eff234d"
      },
      "execution_count": 71,
      "outputs": [
        {
          "output_type": "error",
          "ename": "AttributeError",
          "evalue": "ignored",
          "traceback": [
            "\u001b[0;31m---------------------------------------------------------------------------\u001b[0m",
            "\u001b[0;31mAttributeError\u001b[0m                            Traceback (most recent call last)",
            "\u001b[0;32m<ipython-input-71-a2a4f5c46ddf>\u001b[0m in \u001b[0;36m<module>\u001b[0;34m\u001b[0m\n\u001b[0;32m----> 1\u001b[0;31m \u001b[0mprint\u001b[0m\u001b[0;34m(\u001b[0m\u001b[0;34m(\u001b[0m\u001b[0mpredictionsupdate\u001b[0m\u001b[0;34m==\u001b[0m\u001b[0;36m0\u001b[0m\u001b[0;34m)\u001b[0m\u001b[0;34m.\u001b[0m\u001b[0mvalue_counts\u001b[0m\u001b[0;34m(\u001b[0m\u001b[0;34m)\u001b[0m\u001b[0;34m)\u001b[0m\u001b[0;34m\u001b[0m\u001b[0;34m\u001b[0m\u001b[0m\n\u001b[0m\u001b[1;32m      2\u001b[0m \u001b[0;31m# classes = np.argmax(predictions, axis = 1)\u001b[0m\u001b[0;34m\u001b[0m\u001b[0;34m\u001b[0m\u001b[0;34m\u001b[0m\u001b[0m\n\u001b[1;32m      3\u001b[0m \u001b[0;31m# print(classes)\u001b[0m\u001b[0;34m\u001b[0m\u001b[0;34m\u001b[0m\u001b[0;34m\u001b[0m\u001b[0m\n",
            "\u001b[0;31mAttributeError\u001b[0m: 'numpy.ndarray' object has no attribute 'value_counts'"
          ]
        }
      ]
    },
    {
      "cell_type": "code",
      "source": [
        "# features = test.drop(['Unnamed: 0'],axis = 1)\n",
        "# pred = norm_abalone_model.predict(features)\n",
        "s = pd.DataFrame(predictionsupdate)\n",
        "# idd = test[['Unnamed: 0']]\n",
        "idd['is_canceled'] = s\n",
        "s.value_counts()\n",
        "idd.to_csv('submissiontpart8.csv', index=False)"
      ],
      "metadata": {
        "id": "FSf_02-N9A2q"
      },
      "execution_count": 121,
      "outputs": []
    }
  ]
}